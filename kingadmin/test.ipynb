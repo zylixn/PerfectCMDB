{
 "cells": [
  {
   "cell_type": "code",
   "execution_count": 1,
   "metadata": {
    "collapsed": true
   },
   "outputs": [
    {
     "name": "stdout",
     "output_type": "stream",
     "text": [
      "wupeiqi\n"
     ]
    }
   ],
   "source": [
    "\"\"\"\n",
    "外层变量，可以被内层变量使用\n",
    "内层变量，无法被内层变量使用\n",
    "\"\"\"\n",
    "if 1 == 1:\n",
    "    name = 'wupeiqi'\n",
    "print(name)"
   ]
  },
  {
   "cell_type": "code",
   "execution_count": 2,
   "metadata": {},
   "outputs": [
    {
     "name": "stdout",
     "output_type": "stream",
     "text": [
      "1\n"
     ]
    }
   ],
   "source": [
    "result = 1 if 2>1 else 2\n",
    "print(result)"
   ]
  },
  {
   "cell_type": "code",
   "execution_count": 4,
   "metadata": {},
   "outputs": [
    {
     "name": "stdout",
     "output_type": "stream",
     "text": [
      "Counter({'a': 5, 'b': 4, 'c': 3, 'd': 2, 'e': 1})\n"
     ]
    }
   ],
   "source": [
    "from collections import Counter\n",
    "c = Counter('abcdeabcdabcaba')\n",
    "print(c)"
   ]
  },
  {
   "cell_type": "code",
   "execution_count": null,
   "metadata": {},
   "outputs": [
    {
     "name": "stdout",
     "output_type": "stream",
     "text": [
      "defaultdict(<class 'list'>, {'k2': [11, 22, 33, 44, 55, 66], 'k1': [77, 88, 99, 90]})\n"
     ]
    }
   ],
   "source": [
    "from collections import defaultdict\n",
    "values = [11, 22, 33,44,55,66,77,88,99,90]\n",
    "\n",
    "my_dict = defaultdict(list)\n",
    "\n",
    "for value in  values:\n",
    "    if value>66:\n",
    "        my_dict['k1'].append(value)\n",
    "    else:\n",
    "        my_dict['k2'].append(value)\n",
    "print(my_dict)"
   ]
  },
  {
   "cell_type": "code",
   "execution_count": 1,
   "metadata": {},
   "outputs": [
    {
     "name": "stdout",
     "output_type": "stream",
     "text": [
      "Hello girl\n"
     ]
    }
   ],
   "source": [
    "def sayhi(self):\n",
    "    print(\"Hello girl\")\n",
    "f = type('Foo',(object,),{'foo':sayhi})\n",
    "obj = f()# 类的实例化\n",
    "obj.foo() #调用方法\n"
   ]
  },
  {
   "cell_type": "code",
   "execution_count": 4,
   "metadata": {},
   "outputs": [
    {
     "name": "stdout",
     "output_type": "stream",
     "text": [
      "('name', 'lixn')\n('age', 25)\n('sex', 'male')\n"
     ]
    }
   ],
   "source": [
    "m = [('name','lixn'),('age',25),('sex','male')]\n",
    "for key in m:\n",
    "    print(key)"
   ]
  },
  {
   "cell_type": "code",
   "execution_count": null,
   "metadata": {},
   "outputs": [],
   "source": [
    "from datetime import date\n",
    "s = date.strftime(\"%Y%m%d%H%M%S\")\n",
    "print(s)"
   ]
  }
 ],
 "metadata": {
  "kernelspec": {
   "display_name": "Python 2",
   "language": "python",
   "name": "python2"
  },
  "language_info": {
   "codemirror_mode": {
    "name": "ipython",
    "version": 2
   },
   "file_extension": ".py",
   "mimetype": "text/x-python",
   "name": "python",
   "nbconvert_exporter": "python",
   "pygments_lexer": "ipython2",
   "version": "2.7.6"
  }
 },
 "nbformat": 4,
 "nbformat_minor": 0
}
